{
 "cells": [
  {
   "cell_type": "markdown",
   "id": "aab59905",
   "metadata": {},
   "source": [
    "# Library importation"
   ]
  },
  {
   "cell_type": "code",
   "execution_count": 7,
   "id": "097b07c7",
   "metadata": {},
   "outputs": [],
   "source": [
    "import pandas as pd \n",
    "import spacy\n",
    "import re"
   ]
  },
  {
   "cell_type": "markdown",
   "id": "45f5cbe2",
   "metadata": {},
   "source": [
    "# Data preprocessing"
   ]
  },
  {
   "cell_type": "code",
   "execution_count": 4,
   "id": "50554161",
   "metadata": {},
   "outputs": [
    {
     "name": "stdout",
     "output_type": "stream",
     "text": [
      "  Unnamed: 0                                       comment_body  subreddit\n",
      "0          0  I've been shocked for days now, I don't need c...  r/ChatGPT\n",
      "1          1   \\n\\nI am so angry right now. I just wasted my...  r/ChatGPT\n",
      "2          2  chatgpt karma whoring is here folks! just when...  r/ChatGPT\n",
      "3          3                                 Worked on me, ngl.  r/ChatGPT\n",
      "4          4  Certified 10/10, must-see moment. It really di...  r/ChatGPT\n",
      "There is 52416 comments\n"
     ]
    }
   ],
   "source": [
    "#Droppping unnecesary columns\n",
    "data = pd.read_csv('chatgpt-reddit-comments.csv').drop(columns=['comment_id', \"comment_parent_id\"])\n",
    "\n",
    "#Visualization\n",
    "print(data.head())\n",
    "\n",
    "#Number of comments\n",
    "print(f'There is {data.shape[0]} comments')"
   ]
  },
  {
   "cell_type": "code",
   "execution_count": 9,
   "id": "ea3c4dfe",
   "metadata": {},
   "outputs": [],
   "source": [
    "# 1) Load spaCy \n",
    "nlp = spacy.load(\"en_core_web_lg\", disable=[\"parser\",\"ner\"])\n",
    "\n",
    "# 2) Regexes\n",
    "URL_RE     = re.compile(r\"http\\S+|www\\.\\S+\") #Eliminating URLs\n",
    "HASHTAG_RE = re.compile(r\"#\\w+\") #Eliminating hashtags\n",
    "#Eliminating emojis\n",
    "EMOJI_RE   = re.compile(\n",
    "    \"[\"\n",
    "      u\"\\U0001F600-\\U0001F64F\"\n",
    "      u\"\\U0001F300-\\U0001F5FF\"\n",
    "      u\"\\U0001F680-\\U0001F6FF\"\n",
    "      u\"\\U0001F700-\\U0001F77F\"\n",
    "      u\"\\U0001F780-\\U0001F7FF\"\n",
    "      u\"\\U0001F800-\\U0001F8FF\"\n",
    "      u\"\\U0001F900-\\U0001F9FF\"\n",
    "      u\"\\U0001FA00-\\U0001FA6F\"\n",
    "      u\"\\U00002600-\\U000026FF\"\n",
    "      u\"\\U00002700-\\U000027BF\"\n",
    "    \"]+\",\n",
    "    flags=re.UNICODE\n",
    ")\n",
    "\n",
    "def preprocess_strip_emojis(text):\n",
    "    if not isinstance(text, str):\n",
    "        text = \"\"\n",
    "    # remove URLs, hashtags, and emojis\n",
    "    text = URL_RE.sub(\"\", text)\n",
    "    text = HASHTAG_RE.sub(\"\", text)\n",
    "    text = EMOJI_RE.sub(\"\", text)\n",
    "    # lowercase & trim\n",
    "    text = text.lower().strip()\n",
    "    # tokenize & lemmatize\n",
    "    doc = nlp(text)\n",
    "    tokens = [tok.lemma_ for tok in doc if tok.is_alpha and not tok.is_stop]\n",
    "    return \" \".join(tokens)\n",
    "\n",
    "# Apply to your DataFrame\n",
    "data['comment_clean'] = data['comment_body'].fillna(\"\").apply(preprocess_strip_emojis)"
   ]
  },
  {
   "cell_type": "code",
   "execution_count": 12,
   "id": "276d3bee",
   "metadata": {},
   "outputs": [
    {
     "data": {
      "text/html": [
       "<div>\n",
       "<style scoped>\n",
       "    .dataframe tbody tr th:only-of-type {\n",
       "        vertical-align: middle;\n",
       "    }\n",
       "\n",
       "    .dataframe tbody tr th {\n",
       "        vertical-align: top;\n",
       "    }\n",
       "\n",
       "    .dataframe thead th {\n",
       "        text-align: right;\n",
       "    }\n",
       "</style>\n",
       "<table border=\"1\" class=\"dataframe\">\n",
       "  <thead>\n",
       "    <tr style=\"text-align: right;\">\n",
       "      <th></th>\n",
       "      <th>Unnamed: 0</th>\n",
       "      <th>comment_body</th>\n",
       "      <th>subreddit</th>\n",
       "      <th>comment_clean</th>\n",
       "    </tr>\n",
       "  </thead>\n",
       "  <tbody>\n",
       "    <tr>\n",
       "      <th>0</th>\n",
       "      <td>0</td>\n",
       "      <td>I've been shocked for days now, I don't need c...</td>\n",
       "      <td>r/ChatGPT</td>\n",
       "      <td>shock day need clickbait</td>\n",
       "    </tr>\n",
       "    <tr>\n",
       "      <th>1</th>\n",
       "      <td>1</td>\n",
       "      <td>\\n\\nI am so angry right now. I just wasted my...</td>\n",
       "      <td>r/ChatGPT</td>\n",
       "      <td>angry right waste time read post sub clickbait...</td>\n",
       "    </tr>\n",
       "    <tr>\n",
       "      <th>2</th>\n",
       "      <td>2</td>\n",
       "      <td>chatgpt karma whoring is here folks! just when...</td>\n",
       "      <td>r/ChatGPT</td>\n",
       "      <td>chatgpt karma whore folk think stream think bu...</td>\n",
       "    </tr>\n",
       "    <tr>\n",
       "      <th>3</th>\n",
       "      <td>3</td>\n",
       "      <td>Worked on me, ngl.</td>\n",
       "      <td>r/ChatGPT</td>\n",
       "      <td>work ngl</td>\n",
       "    </tr>\n",
       "    <tr>\n",
       "      <th>4</th>\n",
       "      <td>4</td>\n",
       "      <td>Certified 10/10, must-see moment. It really di...</td>\n",
       "      <td>r/ChatGPT</td>\n",
       "      <td>certify moment shock core</td>\n",
       "    </tr>\n",
       "  </tbody>\n",
       "</table>\n",
       "</div>"
      ],
      "text/plain": [
       "  Unnamed: 0                                       comment_body  subreddit  \\\n",
       "0          0  I've been shocked for days now, I don't need c...  r/ChatGPT   \n",
       "1          1   \\n\\nI am so angry right now. I just wasted my...  r/ChatGPT   \n",
       "2          2  chatgpt karma whoring is here folks! just when...  r/ChatGPT   \n",
       "3          3                                 Worked on me, ngl.  r/ChatGPT   \n",
       "4          4  Certified 10/10, must-see moment. It really di...  r/ChatGPT   \n",
       "\n",
       "                                       comment_clean  \n",
       "0                           shock day need clickbait  \n",
       "1  angry right waste time read post sub clickbait...  \n",
       "2  chatgpt karma whore folk think stream think bu...  \n",
       "3                                           work ngl  \n",
       "4                          certify moment shock core  "
      ]
     },
     "execution_count": 12,
     "metadata": {},
     "output_type": "execute_result"
    }
   ],
   "source": [
    "data.head()"
   ]
  }
 ],
 "metadata": {
  "kernelspec": {
   "display_name": "base",
   "language": "python",
   "name": "python3"
  },
  "language_info": {
   "codemirror_mode": {
    "name": "ipython",
    "version": 3
   },
   "file_extension": ".py",
   "mimetype": "text/x-python",
   "name": "python",
   "nbconvert_exporter": "python",
   "pygments_lexer": "ipython3",
   "version": "3.11.5"
  }
 },
 "nbformat": 4,
 "nbformat_minor": 5
}
